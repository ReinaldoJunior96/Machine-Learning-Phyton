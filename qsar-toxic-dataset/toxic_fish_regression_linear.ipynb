{
 "cells": [
  {
   "cell_type": "code",
   "execution_count": 313,
   "metadata": {
    "collapsed": true
   },
   "outputs": [],
   "source": [
    "import numpy as np\n",
    "import pandas as pd\n",
    "from sklearn.linear_model import LinearRegression\n",
    "from sklearn.model_selection import train_test_split\n",
    "from sklearn.metrics import accuracy_score, mean_squared_error, r2_score\n",
    "from sklearn.model_selection import cross_val_score, KFold\n",
    "import matplotlib.pyplot as plt\n",
    "import seaborn as sns\n",
    "from mlxtend.plotting import plot_linear_regression"
   ]
  },
  {
   "cell_type": "code",
   "execution_count": 314,
   "outputs": [],
   "source": [
    "dataset = pd.read_csv('http://archive.ics.uci.edu/ml/machine-learning-databases/00504/qsar_fish_toxicity.csv', sep=\";\")"
   ],
   "metadata": {
    "collapsed": false,
    "pycharm": {
     "name": "#%%\n"
    }
   }
  },
  {
   "cell_type": "code",
   "execution_count": 315,
   "outputs": [],
   "source": [
    "dataset.columns = ['MLOGP', 'CIC0', 'GATS1i', 'NdssC', 'NdsCH', 'SM1_Dz', 'LC50']"
   ],
   "metadata": {
    "collapsed": false,
    "pycharm": {
     "name": "#%%\n"
    }
   }
  },
  {
   "cell_type": "code",
   "execution_count": 316,
   "outputs": [
    {
     "data": {
      "text/plain": "     MLOGP   CIC0  GATS1i  NdssC  NdsCH  SM1_Dz   LC50\n0    2.189  0.580   0.863      0      0   1.348  3.115\n1    2.125  0.638   0.831      0      0   1.348  3.531\n2    3.027  0.331   1.472      1      0   1.807  3.510\n3    2.094  0.827   0.860      0      0   1.886  5.390\n4    3.222  0.331   2.177      0      0   0.706  1.819\n..     ...    ...     ...    ...    ...     ...    ...\n902  2.801  0.728   2.226      0      2   0.736  3.109\n903  3.652  0.872   0.867      2      3   3.983  4.040\n904  3.763  0.916   0.878      0      6   2.918  4.818\n905  2.831  1.393   1.077      0      1   0.906  5.317\n906  4.057  1.032   1.183      1      3   4.754  8.201\n\n[907 rows x 7 columns]",
      "text/html": "<div>\n<style scoped>\n    .dataframe tbody tr th:only-of-type {\n        vertical-align: middle;\n    }\n\n    .dataframe tbody tr th {\n        vertical-align: top;\n    }\n\n    .dataframe thead th {\n        text-align: right;\n    }\n</style>\n<table border=\"1\" class=\"dataframe\">\n  <thead>\n    <tr style=\"text-align: right;\">\n      <th></th>\n      <th>MLOGP</th>\n      <th>CIC0</th>\n      <th>GATS1i</th>\n      <th>NdssC</th>\n      <th>NdsCH</th>\n      <th>SM1_Dz</th>\n      <th>LC50</th>\n    </tr>\n  </thead>\n  <tbody>\n    <tr>\n      <th>0</th>\n      <td>2.189</td>\n      <td>0.580</td>\n      <td>0.863</td>\n      <td>0</td>\n      <td>0</td>\n      <td>1.348</td>\n      <td>3.115</td>\n    </tr>\n    <tr>\n      <th>1</th>\n      <td>2.125</td>\n      <td>0.638</td>\n      <td>0.831</td>\n      <td>0</td>\n      <td>0</td>\n      <td>1.348</td>\n      <td>3.531</td>\n    </tr>\n    <tr>\n      <th>2</th>\n      <td>3.027</td>\n      <td>0.331</td>\n      <td>1.472</td>\n      <td>1</td>\n      <td>0</td>\n      <td>1.807</td>\n      <td>3.510</td>\n    </tr>\n    <tr>\n      <th>3</th>\n      <td>2.094</td>\n      <td>0.827</td>\n      <td>0.860</td>\n      <td>0</td>\n      <td>0</td>\n      <td>1.886</td>\n      <td>5.390</td>\n    </tr>\n    <tr>\n      <th>4</th>\n      <td>3.222</td>\n      <td>0.331</td>\n      <td>2.177</td>\n      <td>0</td>\n      <td>0</td>\n      <td>0.706</td>\n      <td>1.819</td>\n    </tr>\n    <tr>\n      <th>...</th>\n      <td>...</td>\n      <td>...</td>\n      <td>...</td>\n      <td>...</td>\n      <td>...</td>\n      <td>...</td>\n      <td>...</td>\n    </tr>\n    <tr>\n      <th>902</th>\n      <td>2.801</td>\n      <td>0.728</td>\n      <td>2.226</td>\n      <td>0</td>\n      <td>2</td>\n      <td>0.736</td>\n      <td>3.109</td>\n    </tr>\n    <tr>\n      <th>903</th>\n      <td>3.652</td>\n      <td>0.872</td>\n      <td>0.867</td>\n      <td>2</td>\n      <td>3</td>\n      <td>3.983</td>\n      <td>4.040</td>\n    </tr>\n    <tr>\n      <th>904</th>\n      <td>3.763</td>\n      <td>0.916</td>\n      <td>0.878</td>\n      <td>0</td>\n      <td>6</td>\n      <td>2.918</td>\n      <td>4.818</td>\n    </tr>\n    <tr>\n      <th>905</th>\n      <td>2.831</td>\n      <td>1.393</td>\n      <td>1.077</td>\n      <td>0</td>\n      <td>1</td>\n      <td>0.906</td>\n      <td>5.317</td>\n    </tr>\n    <tr>\n      <th>906</th>\n      <td>4.057</td>\n      <td>1.032</td>\n      <td>1.183</td>\n      <td>1</td>\n      <td>3</td>\n      <td>4.754</td>\n      <td>8.201</td>\n    </tr>\n  </tbody>\n</table>\n<p>907 rows × 7 columns</p>\n</div>"
     },
     "execution_count": 316,
     "metadata": {},
     "output_type": "execute_result"
    }
   ],
   "source": [
    "dataset"
   ],
   "metadata": {
    "collapsed": false,
    "pycharm": {
     "name": "#%%\n"
    }
   }
  },
  {
   "cell_type": "code",
   "execution_count": 317,
   "outputs": [],
   "source": [
    "X = dataset.iloc[:, :6]\n",
    "y = dataset['LC50']"
   ],
   "metadata": {
    "collapsed": false,
    "pycharm": {
     "name": "#%%\n"
    }
   }
  },
  {
   "cell_type": "code",
   "execution_count": 334,
   "outputs": [
    {
     "data": {
      "text/plain": "     MLOGP   CIC0  GATS1i  NdssC  NdsCH  SM1_Dz\n0    2.189  0.580   0.863      0      0   1.348\n1    2.125  0.638   0.831      0      0   1.348\n2    3.027  0.331   1.472      1      0   1.807\n3    2.094  0.827   0.860      0      0   1.886\n4    3.222  0.331   2.177      0      0   0.706\n..     ...    ...     ...    ...    ...     ...\n902  2.801  0.728   2.226      0      2   0.736\n903  3.652  0.872   0.867      2      3   3.983\n904  3.763  0.916   0.878      0      6   2.918\n905  2.831  1.393   1.077      0      1   0.906\n906  4.057  1.032   1.183      1      3   4.754\n\n[907 rows x 6 columns]",
      "text/html": "<div>\n<style scoped>\n    .dataframe tbody tr th:only-of-type {\n        vertical-align: middle;\n    }\n\n    .dataframe tbody tr th {\n        vertical-align: top;\n    }\n\n    .dataframe thead th {\n        text-align: right;\n    }\n</style>\n<table border=\"1\" class=\"dataframe\">\n  <thead>\n    <tr style=\"text-align: right;\">\n      <th></th>\n      <th>MLOGP</th>\n      <th>CIC0</th>\n      <th>GATS1i</th>\n      <th>NdssC</th>\n      <th>NdsCH</th>\n      <th>SM1_Dz</th>\n    </tr>\n  </thead>\n  <tbody>\n    <tr>\n      <th>0</th>\n      <td>2.189</td>\n      <td>0.580</td>\n      <td>0.863</td>\n      <td>0</td>\n      <td>0</td>\n      <td>1.348</td>\n    </tr>\n    <tr>\n      <th>1</th>\n      <td>2.125</td>\n      <td>0.638</td>\n      <td>0.831</td>\n      <td>0</td>\n      <td>0</td>\n      <td>1.348</td>\n    </tr>\n    <tr>\n      <th>2</th>\n      <td>3.027</td>\n      <td>0.331</td>\n      <td>1.472</td>\n      <td>1</td>\n      <td>0</td>\n      <td>1.807</td>\n    </tr>\n    <tr>\n      <th>3</th>\n      <td>2.094</td>\n      <td>0.827</td>\n      <td>0.860</td>\n      <td>0</td>\n      <td>0</td>\n      <td>1.886</td>\n    </tr>\n    <tr>\n      <th>4</th>\n      <td>3.222</td>\n      <td>0.331</td>\n      <td>2.177</td>\n      <td>0</td>\n      <td>0</td>\n      <td>0.706</td>\n    </tr>\n    <tr>\n      <th>...</th>\n      <td>...</td>\n      <td>...</td>\n      <td>...</td>\n      <td>...</td>\n      <td>...</td>\n      <td>...</td>\n    </tr>\n    <tr>\n      <th>902</th>\n      <td>2.801</td>\n      <td>0.728</td>\n      <td>2.226</td>\n      <td>0</td>\n      <td>2</td>\n      <td>0.736</td>\n    </tr>\n    <tr>\n      <th>903</th>\n      <td>3.652</td>\n      <td>0.872</td>\n      <td>0.867</td>\n      <td>2</td>\n      <td>3</td>\n      <td>3.983</td>\n    </tr>\n    <tr>\n      <th>904</th>\n      <td>3.763</td>\n      <td>0.916</td>\n      <td>0.878</td>\n      <td>0</td>\n      <td>6</td>\n      <td>2.918</td>\n    </tr>\n    <tr>\n      <th>905</th>\n      <td>2.831</td>\n      <td>1.393</td>\n      <td>1.077</td>\n      <td>0</td>\n      <td>1</td>\n      <td>0.906</td>\n    </tr>\n    <tr>\n      <th>906</th>\n      <td>4.057</td>\n      <td>1.032</td>\n      <td>1.183</td>\n      <td>1</td>\n      <td>3</td>\n      <td>4.754</td>\n    </tr>\n  </tbody>\n</table>\n<p>907 rows × 6 columns</p>\n</div>"
     },
     "execution_count": 334,
     "metadata": {},
     "output_type": "execute_result"
    }
   ],
   "source": [
    "X"
   ],
   "metadata": {
    "collapsed": false,
    "pycharm": {
     "name": "#%%\n"
    }
   }
  },
  {
   "cell_type": "code",
   "execution_count": 377,
   "outputs": [],
   "source": [
    "X_train, X_test, y_train, y_test = train_test_split(X,y, test_size=0.3)"
   ],
   "metadata": {
    "collapsed": false,
    "pycharm": {
     "name": "#%%\n"
    }
   }
  },
  {
   "cell_type": "code",
   "execution_count": 378,
   "outputs": [],
   "source": [
    "reg = LinearRegression()"
   ],
   "metadata": {
    "collapsed": false,
    "pycharm": {
     "name": "#%%\n"
    }
   }
  },
  {
   "cell_type": "code",
   "execution_count": 379,
   "outputs": [
    {
     "data": {
      "text/plain": "LinearRegression()"
     },
     "execution_count": 379,
     "metadata": {},
     "output_type": "execute_result"
    }
   ],
   "source": [
    "reg.fit(X_train, y_train)"
   ],
   "metadata": {
    "collapsed": false,
    "pycharm": {
     "name": "#%%\n"
    }
   }
  },
  {
   "cell_type": "code",
   "execution_count": 380,
   "outputs": [],
   "source": [
    "y_pred = reg.predict(X_test)"
   ],
   "metadata": {
    "collapsed": false,
    "pycharm": {
     "name": "#%%\n"
    }
   }
  },
  {
   "cell_type": "code",
   "execution_count": 381,
   "outputs": [
    {
     "data": {
      "text/plain": "0.7260198088708323"
     },
     "execution_count": 381,
     "metadata": {},
     "output_type": "execute_result"
    }
   ],
   "source": [
    "mean_squared_error(y_pred, y_test)"
   ],
   "metadata": {
    "collapsed": false,
    "pycharm": {
     "name": "#%%\n"
    }
   }
  },
  {
   "cell_type": "code",
   "execution_count": 339,
   "outputs": [
    {
     "name": "stdout",
     "output_type": "stream",
     "text": [
      "Coeficiente de determinação:  0.6007627399063102\n"
     ]
    }
   ],
   "source": [
    "print('Coeficiente de determinação: ' , r2_score(y_test, y_pred))"
   ],
   "metadata": {
    "collapsed": false,
    "pycharm": {
     "name": "#%%\n"
    }
   }
  },
  {
   "cell_type": "code",
   "execution_count": 383,
   "outputs": [],
   "source": [
    "k_fold = KFold(n_splits=10, shuffle=True, random_state=0)"
   ],
   "metadata": {
    "collapsed": false,
    "pycharm": {
     "name": "#%%\n"
    }
   }
  },
  {
   "cell_type": "code",
   "execution_count": 385,
   "outputs": [
    {
     "name": "stdout",
     "output_type": "stream",
     "text": [
      "Treino:  816\n",
      "Valid:  91\n",
      "\n"
     ]
    },
    {
     "ename": "ValueError",
     "evalue": "y_true and y_pred have different number of output (1!=6)",
     "output_type": "error",
     "traceback": [
      "\u001B[1;31m---------------------------------------------------------------------------\u001B[0m",
      "\u001B[1;31mValueError\u001B[0m                                Traceback (most recent call last)",
      "\u001B[1;32m<ipython-input-385-21c552d6ac1c>\u001B[0m in \u001B[0;36m<module>\u001B[1;34m\u001B[0m\n\u001B[0;32m     10\u001B[0m     \u001B[0mreg\u001B[0m\u001B[1;33m.\u001B[0m\u001B[0mfit\u001B[0m\u001B[1;33m(\u001B[0m\u001B[0mX_treino\u001B[0m\u001B[1;33m,\u001B[0m \u001B[0my_treino\u001B[0m\u001B[1;33m)\u001B[0m\u001B[1;33m\u001B[0m\u001B[1;33m\u001B[0m\u001B[0m\n\u001B[0;32m     11\u001B[0m     \u001B[0my_pred\u001B[0m \u001B[1;33m=\u001B[0m \u001B[0mreg\u001B[0m\u001B[1;33m.\u001B[0m\u001B[0mpredict\u001B[0m\u001B[1;33m(\u001B[0m\u001B[0mX_valid\u001B[0m\u001B[1;33m)\u001B[0m\u001B[1;33m\u001B[0m\u001B[1;33m\u001B[0m\u001B[0m\n\u001B[1;32m---> 12\u001B[1;33m     \u001B[0mmean_squared_error\u001B[0m\u001B[1;33m(\u001B[0m\u001B[0my_pred\u001B[0m\u001B[1;33m,\u001B[0m \u001B[0mX_valid\u001B[0m\u001B[1;33m)\u001B[0m\u001B[1;33m\u001B[0m\u001B[1;33m\u001B[0m\u001B[0m\n\u001B[0m\u001B[0;32m     13\u001B[0m     \u001B[1;31m#resultados.append(acc)\u001B[0m\u001B[1;33m\u001B[0m\u001B[1;33m\u001B[0m\u001B[1;33m\u001B[0m\u001B[0m\n\u001B[0;32m     14\u001B[0m     \u001B[0mprint\u001B[0m\u001B[1;33m(\u001B[0m\u001B[1;34m\" \"\u001B[0m\u001B[1;33m)\u001B[0m\u001B[1;33m\u001B[0m\u001B[1;33m\u001B[0m\u001B[0m\n",
      "\u001B[1;32mc:\\users\\reinaldopc\\appdata\\local\\programs\\python\\python39\\lib\\site-packages\\sklearn\\utils\\validation.py\u001B[0m in \u001B[0;36minner_f\u001B[1;34m(*args, **kwargs)\u001B[0m\n\u001B[0;32m     61\u001B[0m             \u001B[0mextra_args\u001B[0m \u001B[1;33m=\u001B[0m \u001B[0mlen\u001B[0m\u001B[1;33m(\u001B[0m\u001B[0margs\u001B[0m\u001B[1;33m)\u001B[0m \u001B[1;33m-\u001B[0m \u001B[0mlen\u001B[0m\u001B[1;33m(\u001B[0m\u001B[0mall_args\u001B[0m\u001B[1;33m)\u001B[0m\u001B[1;33m\u001B[0m\u001B[1;33m\u001B[0m\u001B[0m\n\u001B[0;32m     62\u001B[0m             \u001B[1;32mif\u001B[0m \u001B[0mextra_args\u001B[0m \u001B[1;33m<=\u001B[0m \u001B[1;36m0\u001B[0m\u001B[1;33m:\u001B[0m\u001B[1;33m\u001B[0m\u001B[1;33m\u001B[0m\u001B[0m\n\u001B[1;32m---> 63\u001B[1;33m                 \u001B[1;32mreturn\u001B[0m \u001B[0mf\u001B[0m\u001B[1;33m(\u001B[0m\u001B[1;33m*\u001B[0m\u001B[0margs\u001B[0m\u001B[1;33m,\u001B[0m \u001B[1;33m**\u001B[0m\u001B[0mkwargs\u001B[0m\u001B[1;33m)\u001B[0m\u001B[1;33m\u001B[0m\u001B[1;33m\u001B[0m\u001B[0m\n\u001B[0m\u001B[0;32m     64\u001B[0m \u001B[1;33m\u001B[0m\u001B[0m\n\u001B[0;32m     65\u001B[0m             \u001B[1;31m# extra_args > 0\u001B[0m\u001B[1;33m\u001B[0m\u001B[1;33m\u001B[0m\u001B[1;33m\u001B[0m\u001B[0m\n",
      "\u001B[1;32mc:\\users\\reinaldopc\\appdata\\local\\programs\\python\\python39\\lib\\site-packages\\sklearn\\metrics\\_regression.py\u001B[0m in \u001B[0;36mmean_squared_error\u001B[1;34m(y_true, y_pred, sample_weight, multioutput, squared)\u001B[0m\n\u001B[0;32m    333\u001B[0m     \u001B[1;36m0.825\u001B[0m\u001B[1;33m...\u001B[0m\u001B[1;33m\u001B[0m\u001B[1;33m\u001B[0m\u001B[0m\n\u001B[0;32m    334\u001B[0m     \"\"\"\n\u001B[1;32m--> 335\u001B[1;33m     y_type, y_true, y_pred, multioutput = _check_reg_targets(\n\u001B[0m\u001B[0;32m    336\u001B[0m         y_true, y_pred, multioutput)\n\u001B[0;32m    337\u001B[0m     \u001B[0mcheck_consistent_length\u001B[0m\u001B[1;33m(\u001B[0m\u001B[0my_true\u001B[0m\u001B[1;33m,\u001B[0m \u001B[0my_pred\u001B[0m\u001B[1;33m,\u001B[0m \u001B[0msample_weight\u001B[0m\u001B[1;33m)\u001B[0m\u001B[1;33m\u001B[0m\u001B[1;33m\u001B[0m\u001B[0m\n",
      "\u001B[1;32mc:\\users\\reinaldopc\\appdata\\local\\programs\\python\\python39\\lib\\site-packages\\sklearn\\metrics\\_regression.py\u001B[0m in \u001B[0;36m_check_reg_targets\u001B[1;34m(y_true, y_pred, multioutput, dtype)\u001B[0m\n\u001B[0;32m     97\u001B[0m \u001B[1;33m\u001B[0m\u001B[0m\n\u001B[0;32m     98\u001B[0m     \u001B[1;32mif\u001B[0m \u001B[0my_true\u001B[0m\u001B[1;33m.\u001B[0m\u001B[0mshape\u001B[0m\u001B[1;33m[\u001B[0m\u001B[1;36m1\u001B[0m\u001B[1;33m]\u001B[0m \u001B[1;33m!=\u001B[0m \u001B[0my_pred\u001B[0m\u001B[1;33m.\u001B[0m\u001B[0mshape\u001B[0m\u001B[1;33m[\u001B[0m\u001B[1;36m1\u001B[0m\u001B[1;33m]\u001B[0m\u001B[1;33m:\u001B[0m\u001B[1;33m\u001B[0m\u001B[1;33m\u001B[0m\u001B[0m\n\u001B[1;32m---> 99\u001B[1;33m         raise ValueError(\"y_true and y_pred have different number of output \"\n\u001B[0m\u001B[0;32m    100\u001B[0m                          \"({0}!={1})\".format(y_true.shape[1], y_pred.shape[1]))\n\u001B[0;32m    101\u001B[0m \u001B[1;33m\u001B[0m\u001B[0m\n",
      "\u001B[1;31mValueError\u001B[0m: y_true and y_pred have different number of output (1!=6)"
     ]
    }
   ],
   "source": [
    "resultados = []\n",
    "\n",
    "for linhas_treino, linhas_valid in k_fold.split(X):\n",
    "    print(\"Treino: \", linhas_treino.shape[0])\n",
    "    print(\"Valid: \", linhas_valid.shape[0])\n",
    "    print()\n",
    "    X_treino, X_valid = X.iloc[linhas_treino], X.iloc[linhas_valid]\n",
    "    y_treino, y_valid = y.iloc[linhas_treino], y.iloc[linhas_valid]\n",
    "    reg = LinearRegression()\n",
    "    reg.fit(X_treino, y_treino)\n",
    "    y_pred = reg.predict(X_valid)\n",
    "    mean_squared_error(y_pred, X_valid)\n",
    "    #resultados.append(acc)\n",
    "    print(\" \")"
   ],
   "metadata": {
    "collapsed": false,
    "pycharm": {
     "name": "#%%\n"
    }
   }
  },
  {
   "cell_type": "code",
   "execution_count": 349,
   "outputs": [],
   "source": [
    "cross_val_score?"
   ],
   "metadata": {
    "collapsed": false,
    "pycharm": {
     "name": "#%%\n"
    }
   }
  },
  {
   "cell_type": "code",
   "execution_count": 369,
   "outputs": [],
   "source": [
    "result = cross_val_score(reg, X, y, cv=k_fold)"
   ],
   "metadata": {
    "collapsed": false,
    "pycharm": {
     "name": "#%%\n"
    }
   }
  },
  {
   "cell_type": "code",
   "execution_count": 370,
   "outputs": [
    {
     "name": "stdout",
     "output_type": "stream",
     "text": [
      "Pontos do K-Fold:[0.55708264 0.54848599 0.60148991 0.62539402 0.46446125 0.66424137\n",
      " 0.65802768 0.44949896 0.36658875 0.60239833]\n"
     ]
    }
   ],
   "source": [
    "print(\"Pontos do K-Fold:\" + str(result))"
   ],
   "metadata": {
    "collapsed": false,
    "pycharm": {
     "name": "#%%\n"
    }
   }
  },
  {
   "cell_type": "code",
   "execution_count": 371,
   "outputs": [
    {
     "name": "stdout",
     "output_type": "stream",
     "text": [
      "Média K-Fold: 0.5537668919225767\n"
     ]
    }
   ],
   "source": [
    "print(\"Média K-Fold: {0}\".format(result.mean()))"
   ],
   "metadata": {
    "collapsed": false,
    "pycharm": {
     "name": "#%%\n"
    }
   }
  },
  {
   "cell_type": "code",
   "execution_count": 329,
   "outputs": [],
   "source": [
    "#sns.pairplot(dataset)"
   ],
   "metadata": {
    "collapsed": false,
    "pycharm": {
     "name": "#%%\n"
    }
   }
  },
  {
   "cell_type": "code",
   "execution_count": 330,
   "outputs": [],
   "source": [
    "#dataset.corr()\n"
   ],
   "metadata": {
    "collapsed": false,
    "pycharm": {
     "name": "#%%\n"
    }
   }
  }
 ],
 "metadata": {
  "kernelspec": {
   "display_name": "Python 3",
   "language": "python",
   "name": "python3"
  },
  "language_info": {
   "codemirror_mode": {
    "name": "ipython",
    "version": 2
   },
   "file_extension": ".py",
   "mimetype": "text/x-python",
   "name": "python",
   "nbconvert_exporter": "python",
   "pygments_lexer": "ipython2",
   "version": "2.7.6"
  }
 },
 "nbformat": 4,
 "nbformat_minor": 0
}