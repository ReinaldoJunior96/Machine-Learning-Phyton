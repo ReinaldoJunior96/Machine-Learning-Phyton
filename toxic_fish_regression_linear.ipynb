{
 "cells": [
  {
   "cell_type": "code",
   "execution_count": 278,
   "metadata": {
    "collapsed": true
   },
   "outputs": [],
   "source": [
    "import pandas as pd\n",
    "from sklearn.linear_model import LinearRegression\n",
    "from sklearn.model_selection import train_test_split\n",
    "from sklearn.metrics import accuracy_score,mean_squared_error, r2_score\n",
    "from sklearn.model_selection import cross_val_score, KFold\n",
    "import matplotlib.pyplot as plt\n",
    "import seaborn as sns\n",
    "from mlxtend.plotting import plot_linear_regression"
   ]
  },
  {
   "cell_type": "code",
   "execution_count": 279,
   "outputs": [],
   "source": [
    "dataset = pd.read_csv('http://archive.ics.uci.edu/ml/machine-learning-databases/00504/qsar_fish_toxicity.csv', sep=\";\" )"
   ],
   "metadata": {
    "collapsed": false,
    "pycharm": {
     "name": "#%%\n"
    }
   }
  },
  {
   "cell_type": "code",
   "execution_count": 280,
   "outputs": [],
   "source": [
    "dataset.columns = ['MLOGP','CIC0','GATS1i','NdssC','NdsCH','SM1_Dz','LC50']"
   ],
   "metadata": {
    "collapsed": false,
    "pycharm": {
     "name": "#%%\n"
    }
   }
  },
  {
   "cell_type": "code",
   "execution_count": 281,
   "outputs": [
    {
     "data": {
      "text/plain": "     MLOGP   CIC0  GATS1i  NdssC  NdsCH  SM1_Dz   LC50\n0    2.189  0.580   0.863      0      0   1.348  3.115\n1    2.125  0.638   0.831      0      0   1.348  3.531\n2    3.027  0.331   1.472      1      0   1.807  3.510\n3    2.094  0.827   0.860      0      0   1.886  5.390\n4    3.222  0.331   2.177      0      0   0.706  1.819\n..     ...    ...     ...    ...    ...     ...    ...\n902  2.801  0.728   2.226      0      2   0.736  3.109\n903  3.652  0.872   0.867      2      3   3.983  4.040\n904  3.763  0.916   0.878      0      6   2.918  4.818\n905  2.831  1.393   1.077      0      1   0.906  5.317\n906  4.057  1.032   1.183      1      3   4.754  8.201\n\n[907 rows x 7 columns]",
      "text/html": "<div>\n<style scoped>\n    .dataframe tbody tr th:only-of-type {\n        vertical-align: middle;\n    }\n\n    .dataframe tbody tr th {\n        vertical-align: top;\n    }\n\n    .dataframe thead th {\n        text-align: right;\n    }\n</style>\n<table border=\"1\" class=\"dataframe\">\n  <thead>\n    <tr style=\"text-align: right;\">\n      <th></th>\n      <th>MLOGP</th>\n      <th>CIC0</th>\n      <th>GATS1i</th>\n      <th>NdssC</th>\n      <th>NdsCH</th>\n      <th>SM1_Dz</th>\n      <th>LC50</th>\n    </tr>\n  </thead>\n  <tbody>\n    <tr>\n      <th>0</th>\n      <td>2.189</td>\n      <td>0.580</td>\n      <td>0.863</td>\n      <td>0</td>\n      <td>0</td>\n      <td>1.348</td>\n      <td>3.115</td>\n    </tr>\n    <tr>\n      <th>1</th>\n      <td>2.125</td>\n      <td>0.638</td>\n      <td>0.831</td>\n      <td>0</td>\n      <td>0</td>\n      <td>1.348</td>\n      <td>3.531</td>\n    </tr>\n    <tr>\n      <th>2</th>\n      <td>3.027</td>\n      <td>0.331</td>\n      <td>1.472</td>\n      <td>1</td>\n      <td>0</td>\n      <td>1.807</td>\n      <td>3.510</td>\n    </tr>\n    <tr>\n      <th>3</th>\n      <td>2.094</td>\n      <td>0.827</td>\n      <td>0.860</td>\n      <td>0</td>\n      <td>0</td>\n      <td>1.886</td>\n      <td>5.390</td>\n    </tr>\n    <tr>\n      <th>4</th>\n      <td>3.222</td>\n      <td>0.331</td>\n      <td>2.177</td>\n      <td>0</td>\n      <td>0</td>\n      <td>0.706</td>\n      <td>1.819</td>\n    </tr>\n    <tr>\n      <th>...</th>\n      <td>...</td>\n      <td>...</td>\n      <td>...</td>\n      <td>...</td>\n      <td>...</td>\n      <td>...</td>\n      <td>...</td>\n    </tr>\n    <tr>\n      <th>902</th>\n      <td>2.801</td>\n      <td>0.728</td>\n      <td>2.226</td>\n      <td>0</td>\n      <td>2</td>\n      <td>0.736</td>\n      <td>3.109</td>\n    </tr>\n    <tr>\n      <th>903</th>\n      <td>3.652</td>\n      <td>0.872</td>\n      <td>0.867</td>\n      <td>2</td>\n      <td>3</td>\n      <td>3.983</td>\n      <td>4.040</td>\n    </tr>\n    <tr>\n      <th>904</th>\n      <td>3.763</td>\n      <td>0.916</td>\n      <td>0.878</td>\n      <td>0</td>\n      <td>6</td>\n      <td>2.918</td>\n      <td>4.818</td>\n    </tr>\n    <tr>\n      <th>905</th>\n      <td>2.831</td>\n      <td>1.393</td>\n      <td>1.077</td>\n      <td>0</td>\n      <td>1</td>\n      <td>0.906</td>\n      <td>5.317</td>\n    </tr>\n    <tr>\n      <th>906</th>\n      <td>4.057</td>\n      <td>1.032</td>\n      <td>1.183</td>\n      <td>1</td>\n      <td>3</td>\n      <td>4.754</td>\n      <td>8.201</td>\n    </tr>\n  </tbody>\n</table>\n<p>907 rows × 7 columns</p>\n</div>"
     },
     "execution_count": 281,
     "metadata": {},
     "output_type": "execute_result"
    }
   ],
   "source": [
    "#dataset"
   ],
   "metadata": {
    "collapsed": false,
    "pycharm": {
     "name": "#%%\n"
    }
   }
  },
  {
   "cell_type": "code",
   "execution_count": 282,
   "outputs": [],
   "source": [
    "X = dataset.iloc[:,:6]\n",
    "y = dataset['LC50'].values"
   ],
   "metadata": {
    "collapsed": false,
    "pycharm": {
     "name": "#%%\n"
    }
   }
  },
  {
   "cell_type": "code",
   "execution_count": 293,
   "outputs": [],
   "source": [
    "X_train, X_test, y_train, y_test = train_test_split(X, y, test_size = 0.25)"
   ],
   "metadata": {
    "collapsed": false,
    "pycharm": {
     "name": "#%%\n"
    }
   }
  },
  {
   "cell_type": "code",
   "execution_count": 294,
   "outputs": [],
   "source": [
    "reg = LinearRegression()"
   ],
   "metadata": {
    "collapsed": false,
    "pycharm": {
     "name": "#%%\n"
    }
   }
  },
  {
   "cell_type": "code",
   "execution_count": 295,
   "outputs": [
    {
     "data": {
      "text/plain": "LinearRegression()"
     },
     "execution_count": 295,
     "metadata": {},
     "output_type": "execute_result"
    }
   ],
   "source": [
    "reg.fit(X_train, y_train)"
   ],
   "metadata": {
    "collapsed": false,
    "pycharm": {
     "name": "#%%\n"
    }
   }
  },
  {
   "cell_type": "code",
   "execution_count": 296,
   "outputs": [],
   "source": [
    "y_pred = reg.predict(X_test)"
   ],
   "metadata": {
    "collapsed": false,
    "pycharm": {
     "name": "#%%\n"
    }
   }
  },
  {
   "cell_type": "code",
   "execution_count": 303,
   "outputs": [
    {
     "name": "stdout",
     "output_type": "stream",
     "text": [
      "coeficiente de determinação: 0.5744301907699911\n"
     ]
    }
   ],
   "source": [
    "print('coeficiente de determinação:', reg.score(X, y))"
   ],
   "metadata": {
    "collapsed": false,
    "pycharm": {
     "name": "#%%\n"
    }
   }
  },
  {
   "cell_type": "code",
   "execution_count": 297,
   "outputs": [],
   "source": [
    "k_fold = KFold(n_splits=10, shuffle=False, random_state=None)"
   ],
   "metadata": {
    "collapsed": false,
    "pycharm": {
     "name": "#%%\n"
    }
   }
  },
  {
   "cell_type": "code",
   "execution_count": 298,
   "outputs": [],
   "source": [
    "result = cross_val_score(reg, X, y, cv=k_fold)"
   ],
   "metadata": {
    "collapsed": false,
    "pycharm": {
     "name": "#%%\n"
    }
   }
  },
  {
   "cell_type": "code",
   "execution_count": 299,
   "outputs": [
    {
     "name": "stdout",
     "output_type": "stream",
     "text": [
      "Pontos do K-Fold:[0.41103083 0.49621077 0.5094424  0.50839755 0.17488665 0.60257832\n",
      " 0.67661985 0.67353945 0.65778838 0.55188747]\n"
     ]
    }
   ],
   "source": [
    "print(\"Pontos do K-Fold:\"+str(result))"
   ],
   "metadata": {
    "collapsed": false,
    "pycharm": {
     "name": "#%%\n"
    }
   }
  },
  {
   "cell_type": "code",
   "execution_count": 300,
   "outputs": [
    {
     "name": "stdout",
     "output_type": "stream",
     "text": [
      "Média Cross-Validation K-Fold: 0.5262381673150192\n"
     ]
    }
   ],
   "source": [
    "print(\"Média Cross-Validation K-Fold: {0}\".format(result.mean()))\n"
   ],
   "metadata": {
    "collapsed": false,
    "pycharm": {
     "name": "#%%\n"
    }
   }
  }
 ],
 "metadata": {
  "kernelspec": {
   "display_name": "Python 3",
   "language": "python",
   "name": "python3"
  },
  "language_info": {
   "codemirror_mode": {
    "name": "ipython",
    "version": 2
   },
   "file_extension": ".py",
   "mimetype": "text/x-python",
   "name": "python",
   "nbconvert_exporter": "python",
   "pygments_lexer": "ipython2",
   "version": "2.7.6"
  }
 },
 "nbformat": 4,
 "nbformat_minor": 0
}