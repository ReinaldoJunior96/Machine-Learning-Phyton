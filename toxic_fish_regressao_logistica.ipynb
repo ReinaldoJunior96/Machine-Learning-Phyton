{
 "cells": [
  {
   "cell_type": "code",
   "execution_count": 161,
   "metadata": {
    "collapsed": true
   },
   "outputs": [],
   "source": [
    "import pandas as pd\n",
    "from sklearn.linear_model import LogisticRegression\n",
    "from sklearn.model_selection import cross_val_score, KFold\n",
    "from sklearn.model_selection import train_test_split\n",
    "from sklearn import preprocessing\n",
    "from sklearn import utils"
   ]
  },
  {
   "cell_type": "code",
   "execution_count": 162,
   "outputs": [],
   "source": [
    "dataset = pd.read_csv('http://archive.ics.uci.edu/ml/machine-learning-databases/00504/qsar_fish_toxicity.csv', sep=\";\" )"
   ],
   "metadata": {
    "collapsed": false,
    "pycharm": {
     "name": "#%%\n"
    }
   }
  },
  {
   "cell_type": "code",
   "execution_count": 164,
   "outputs": [],
   "source": [
    "dataset.columns = ['MLOGP','CIC0','GATS1i','NdssC','NdsCH','SM1_Dz','LC50']"
   ],
   "metadata": {
    "collapsed": false,
    "pycharm": {
     "name": "#%%\n"
    }
   }
  },
  {
   "cell_type": "code",
   "execution_count": 165,
   "outputs": [
    {
     "data": {
      "text/plain": "     MLOGP   CIC0  GATS1i  NdssC  NdsCH  SM1_Dz   LC50\n0    2.189  0.580   0.863      0      0   1.348  3.115\n1    2.125  0.638   0.831      0      0   1.348  3.531\n2    3.027  0.331   1.472      1      0   1.807  3.510\n3    2.094  0.827   0.860      0      0   1.886  5.390\n4    3.222  0.331   2.177      0      0   0.706  1.819\n..     ...    ...     ...    ...    ...     ...    ...\n902  2.801  0.728   2.226      0      2   0.736  3.109\n903  3.652  0.872   0.867      2      3   3.983  4.040\n904  3.763  0.916   0.878      0      6   2.918  4.818\n905  2.831  1.393   1.077      0      1   0.906  5.317\n906  4.057  1.032   1.183      1      3   4.754  8.201\n\n[907 rows x 7 columns]",
      "text/html": "<div>\n<style scoped>\n    .dataframe tbody tr th:only-of-type {\n        vertical-align: middle;\n    }\n\n    .dataframe tbody tr th {\n        vertical-align: top;\n    }\n\n    .dataframe thead th {\n        text-align: right;\n    }\n</style>\n<table border=\"1\" class=\"dataframe\">\n  <thead>\n    <tr style=\"text-align: right;\">\n      <th></th>\n      <th>MLOGP</th>\n      <th>CIC0</th>\n      <th>GATS1i</th>\n      <th>NdssC</th>\n      <th>NdsCH</th>\n      <th>SM1_Dz</th>\n      <th>LC50</th>\n    </tr>\n  </thead>\n  <tbody>\n    <tr>\n      <th>0</th>\n      <td>2.189</td>\n      <td>0.580</td>\n      <td>0.863</td>\n      <td>0</td>\n      <td>0</td>\n      <td>1.348</td>\n      <td>3.115</td>\n    </tr>\n    <tr>\n      <th>1</th>\n      <td>2.125</td>\n      <td>0.638</td>\n      <td>0.831</td>\n      <td>0</td>\n      <td>0</td>\n      <td>1.348</td>\n      <td>3.531</td>\n    </tr>\n    <tr>\n      <th>2</th>\n      <td>3.027</td>\n      <td>0.331</td>\n      <td>1.472</td>\n      <td>1</td>\n      <td>0</td>\n      <td>1.807</td>\n      <td>3.510</td>\n    </tr>\n    <tr>\n      <th>3</th>\n      <td>2.094</td>\n      <td>0.827</td>\n      <td>0.860</td>\n      <td>0</td>\n      <td>0</td>\n      <td>1.886</td>\n      <td>5.390</td>\n    </tr>\n    <tr>\n      <th>4</th>\n      <td>3.222</td>\n      <td>0.331</td>\n      <td>2.177</td>\n      <td>0</td>\n      <td>0</td>\n      <td>0.706</td>\n      <td>1.819</td>\n    </tr>\n    <tr>\n      <th>...</th>\n      <td>...</td>\n      <td>...</td>\n      <td>...</td>\n      <td>...</td>\n      <td>...</td>\n      <td>...</td>\n      <td>...</td>\n    </tr>\n    <tr>\n      <th>902</th>\n      <td>2.801</td>\n      <td>0.728</td>\n      <td>2.226</td>\n      <td>0</td>\n      <td>2</td>\n      <td>0.736</td>\n      <td>3.109</td>\n    </tr>\n    <tr>\n      <th>903</th>\n      <td>3.652</td>\n      <td>0.872</td>\n      <td>0.867</td>\n      <td>2</td>\n      <td>3</td>\n      <td>3.983</td>\n      <td>4.040</td>\n    </tr>\n    <tr>\n      <th>904</th>\n      <td>3.763</td>\n      <td>0.916</td>\n      <td>0.878</td>\n      <td>0</td>\n      <td>6</td>\n      <td>2.918</td>\n      <td>4.818</td>\n    </tr>\n    <tr>\n      <th>905</th>\n      <td>2.831</td>\n      <td>1.393</td>\n      <td>1.077</td>\n      <td>0</td>\n      <td>1</td>\n      <td>0.906</td>\n      <td>5.317</td>\n    </tr>\n    <tr>\n      <th>906</th>\n      <td>4.057</td>\n      <td>1.032</td>\n      <td>1.183</td>\n      <td>1</td>\n      <td>3</td>\n      <td>4.754</td>\n      <td>8.201</td>\n    </tr>\n  </tbody>\n</table>\n<p>907 rows × 7 columns</p>\n</div>"
     },
     "execution_count": 165,
     "metadata": {},
     "output_type": "execute_result"
    }
   ],
   "source": [
    "dataset"
   ],
   "metadata": {
    "collapsed": false,
    "pycharm": {
     "name": "#%%\n"
    }
   }
  },
  {
   "cell_type": "code",
   "execution_count": 186,
   "outputs": [],
   "source": [
    "X = dataset[['MLOGP','CIC0','GATS1i','NdssC','NdsCH','SM1_Dz']]\n",
    "y = dataset[['LC50']]"
   ],
   "metadata": {
    "collapsed": false,
    "pycharm": {
     "name": "#%%\n"
    }
   }
  },
  {
   "cell_type": "code",
   "execution_count": 187,
   "outputs": [],
   "source": [
    "X_train, X_test, y_train, y_test = train_test_split(X, y, test_size = 0.25)"
   ],
   "metadata": {
    "collapsed": false,
    "pycharm": {
     "name": "#%%\n"
    }
   }
  },
  {
   "cell_type": "code",
   "execution_count": 188,
   "outputs": [
    {
     "data": {
      "text/plain": "     MLOGP   CIC0  GATS1i  NdssC  NdsCH  SM1_Dz\n602  2.781  0.711   1.147      0      0   1.515\n702  1.126  0.134   1.431      0      0  -0.317\n137  2.701  0.405   2.003      0      0  -0.081\n571  3.103  0.134   1.016      0      0   2.193\n498  2.428  0.956   2.609      0      0   0.113\n..     ...    ...     ...    ...    ...     ...\n360  2.442  0.934   0.984      0      1   3.259\n763  2.818  0.830   1.386      0      0   2.899\n326  2.216  0.582   1.287      0      0   1.467\n271  3.462  0.405   1.717      0      1   2.060\n449  1.975  0.802   0.775      1      0   2.799\n\n[680 rows x 6 columns]",
      "text/html": "<div>\n<style scoped>\n    .dataframe tbody tr th:only-of-type {\n        vertical-align: middle;\n    }\n\n    .dataframe tbody tr th {\n        vertical-align: top;\n    }\n\n    .dataframe thead th {\n        text-align: right;\n    }\n</style>\n<table border=\"1\" class=\"dataframe\">\n  <thead>\n    <tr style=\"text-align: right;\">\n      <th></th>\n      <th>MLOGP</th>\n      <th>CIC0</th>\n      <th>GATS1i</th>\n      <th>NdssC</th>\n      <th>NdsCH</th>\n      <th>SM1_Dz</th>\n    </tr>\n  </thead>\n  <tbody>\n    <tr>\n      <th>602</th>\n      <td>2.781</td>\n      <td>0.711</td>\n      <td>1.147</td>\n      <td>0</td>\n      <td>0</td>\n      <td>1.515</td>\n    </tr>\n    <tr>\n      <th>702</th>\n      <td>1.126</td>\n      <td>0.134</td>\n      <td>1.431</td>\n      <td>0</td>\n      <td>0</td>\n      <td>-0.317</td>\n    </tr>\n    <tr>\n      <th>137</th>\n      <td>2.701</td>\n      <td>0.405</td>\n      <td>2.003</td>\n      <td>0</td>\n      <td>0</td>\n      <td>-0.081</td>\n    </tr>\n    <tr>\n      <th>571</th>\n      <td>3.103</td>\n      <td>0.134</td>\n      <td>1.016</td>\n      <td>0</td>\n      <td>0</td>\n      <td>2.193</td>\n    </tr>\n    <tr>\n      <th>498</th>\n      <td>2.428</td>\n      <td>0.956</td>\n      <td>2.609</td>\n      <td>0</td>\n      <td>0</td>\n      <td>0.113</td>\n    </tr>\n    <tr>\n      <th>...</th>\n      <td>...</td>\n      <td>...</td>\n      <td>...</td>\n      <td>...</td>\n      <td>...</td>\n      <td>...</td>\n    </tr>\n    <tr>\n      <th>360</th>\n      <td>2.442</td>\n      <td>0.934</td>\n      <td>0.984</td>\n      <td>0</td>\n      <td>1</td>\n      <td>3.259</td>\n    </tr>\n    <tr>\n      <th>763</th>\n      <td>2.818</td>\n      <td>0.830</td>\n      <td>1.386</td>\n      <td>0</td>\n      <td>0</td>\n      <td>2.899</td>\n    </tr>\n    <tr>\n      <th>326</th>\n      <td>2.216</td>\n      <td>0.582</td>\n      <td>1.287</td>\n      <td>0</td>\n      <td>0</td>\n      <td>1.467</td>\n    </tr>\n    <tr>\n      <th>271</th>\n      <td>3.462</td>\n      <td>0.405</td>\n      <td>1.717</td>\n      <td>0</td>\n      <td>1</td>\n      <td>2.060</td>\n    </tr>\n    <tr>\n      <th>449</th>\n      <td>1.975</td>\n      <td>0.802</td>\n      <td>0.775</td>\n      <td>1</td>\n      <td>0</td>\n      <td>2.799</td>\n    </tr>\n  </tbody>\n</table>\n<p>680 rows × 6 columns</p>\n</div>"
     },
     "execution_count": 188,
     "metadata": {},
     "output_type": "execute_result"
    }
   ],
   "source": [
    "X_train"
   ],
   "metadata": {
    "collapsed": false,
    "pycharm": {
     "name": "#%%\n"
    }
   }
  },
  {
   "cell_type": "code",
   "execution_count": 189,
   "outputs": [],
   "source": [
    "clf = LogisticRegression()"
   ],
   "metadata": {
    "collapsed": false,
    "pycharm": {
     "name": "#%%\n"
    }
   }
  },
  {
   "cell_type": "code",
   "execution_count": 190,
   "outputs": [
    {
     "data": {
      "text/plain": "      LC50\n602  3.846\n702  1.399\n137  0.533\n571  3.220\n498  1.301\n..     ...\n360  4.208\n763  3.920\n326  2.740\n271  4.557\n449  4.227\n\n[680 rows x 1 columns]",
      "text/html": "<div>\n<style scoped>\n    .dataframe tbody tr th:only-of-type {\n        vertical-align: middle;\n    }\n\n    .dataframe tbody tr th {\n        vertical-align: top;\n    }\n\n    .dataframe thead th {\n        text-align: right;\n    }\n</style>\n<table border=\"1\" class=\"dataframe\">\n  <thead>\n    <tr style=\"text-align: right;\">\n      <th></th>\n      <th>LC50</th>\n    </tr>\n  </thead>\n  <tbody>\n    <tr>\n      <th>602</th>\n      <td>3.846</td>\n    </tr>\n    <tr>\n      <th>702</th>\n      <td>1.399</td>\n    </tr>\n    <tr>\n      <th>137</th>\n      <td>0.533</td>\n    </tr>\n    <tr>\n      <th>571</th>\n      <td>3.220</td>\n    </tr>\n    <tr>\n      <th>498</th>\n      <td>1.301</td>\n    </tr>\n    <tr>\n      <th>...</th>\n      <td>...</td>\n    </tr>\n    <tr>\n      <th>360</th>\n      <td>4.208</td>\n    </tr>\n    <tr>\n      <th>763</th>\n      <td>3.920</td>\n    </tr>\n    <tr>\n      <th>326</th>\n      <td>2.740</td>\n    </tr>\n    <tr>\n      <th>271</th>\n      <td>4.557</td>\n    </tr>\n    <tr>\n      <th>449</th>\n      <td>4.227</td>\n    </tr>\n  </tbody>\n</table>\n<p>680 rows × 1 columns</p>\n</div>"
     },
     "execution_count": 190,
     "metadata": {},
     "output_type": "execute_result"
    }
   ],
   "source": [
    "y_train"
   ],
   "metadata": {
    "collapsed": false,
    "pycharm": {
     "name": "#%%\n"
    }
   }
  },
  {
   "cell_type": "code",
   "execution_count": 191,
   "outputs": [
    {
     "name": "stderr",
     "output_type": "stream",
     "text": [
      "c:\\users\\reinaldopc\\documents\\pycharm-projects\\venv\\lib\\site-packages\\sklearn\\utils\\validation.py:63: DataConversionWarning: A column-vector y was passed when a 1d array was expected. Please change the shape of y to (n_samples, ), for example using ravel().\n",
      "  return f(*args, **kwargs)\n"
     ]
    },
    {
     "ename": "ValueError",
     "evalue": "Unknown label type: 'continuous'",
     "output_type": "error",
     "traceback": [
      "\u001B[1;31m---------------------------------------------------------------------------\u001B[0m",
      "\u001B[1;31mValueError\u001B[0m                                Traceback (most recent call last)",
      "\u001B[1;32m<ipython-input-191-df1b07fdedb5>\u001B[0m in \u001B[0;36m<module>\u001B[1;34m\u001B[0m\n\u001B[1;32m----> 1\u001B[1;33m \u001B[0mclf\u001B[0m\u001B[1;33m.\u001B[0m\u001B[0mfit\u001B[0m\u001B[1;33m(\u001B[0m\u001B[0mX_train\u001B[0m\u001B[1;33m,\u001B[0m \u001B[0my_train\u001B[0m\u001B[1;33m)\u001B[0m\u001B[1;33m\u001B[0m\u001B[1;33m\u001B[0m\u001B[0m\n\u001B[0m\u001B[0;32m      2\u001B[0m \u001B[1;33m\u001B[0m\u001B[0m\n",
      "\u001B[1;32mc:\\users\\reinaldopc\\documents\\pycharm-projects\\venv\\lib\\site-packages\\sklearn\\linear_model\\_logistic.py\u001B[0m in \u001B[0;36mfit\u001B[1;34m(self, X, y, sample_weight)\u001B[0m\n\u001B[0;32m   1345\u001B[0m                                    \u001B[0morder\u001B[0m\u001B[1;33m=\u001B[0m\u001B[1;34m\"C\"\u001B[0m\u001B[1;33m,\u001B[0m\u001B[1;33m\u001B[0m\u001B[1;33m\u001B[0m\u001B[0m\n\u001B[0;32m   1346\u001B[0m                                    accept_large_sparse=solver != 'liblinear')\n\u001B[1;32m-> 1347\u001B[1;33m         \u001B[0mcheck_classification_targets\u001B[0m\u001B[1;33m(\u001B[0m\u001B[0my\u001B[0m\u001B[1;33m)\u001B[0m\u001B[1;33m\u001B[0m\u001B[1;33m\u001B[0m\u001B[0m\n\u001B[0m\u001B[0;32m   1348\u001B[0m         \u001B[0mself\u001B[0m\u001B[1;33m.\u001B[0m\u001B[0mclasses_\u001B[0m \u001B[1;33m=\u001B[0m \u001B[0mnp\u001B[0m\u001B[1;33m.\u001B[0m\u001B[0munique\u001B[0m\u001B[1;33m(\u001B[0m\u001B[0my\u001B[0m\u001B[1;33m)\u001B[0m\u001B[1;33m\u001B[0m\u001B[1;33m\u001B[0m\u001B[0m\n\u001B[0;32m   1349\u001B[0m \u001B[1;33m\u001B[0m\u001B[0m\n",
      "\u001B[1;32mc:\\users\\reinaldopc\\documents\\pycharm-projects\\venv\\lib\\site-packages\\sklearn\\utils\\multiclass.py\u001B[0m in \u001B[0;36mcheck_classification_targets\u001B[1;34m(y)\u001B[0m\n\u001B[0;32m    181\u001B[0m     if y_type not in ['binary', 'multiclass', 'multiclass-multioutput',\n\u001B[0;32m    182\u001B[0m                       'multilabel-indicator', 'multilabel-sequences']:\n\u001B[1;32m--> 183\u001B[1;33m         \u001B[1;32mraise\u001B[0m \u001B[0mValueError\u001B[0m\u001B[1;33m(\u001B[0m\u001B[1;34m\"Unknown label type: %r\"\u001B[0m \u001B[1;33m%\u001B[0m \u001B[0my_type\u001B[0m\u001B[1;33m)\u001B[0m\u001B[1;33m\u001B[0m\u001B[1;33m\u001B[0m\u001B[0m\n\u001B[0m\u001B[0;32m    184\u001B[0m \u001B[1;33m\u001B[0m\u001B[0m\n\u001B[0;32m    185\u001B[0m \u001B[1;33m\u001B[0m\u001B[0m\n",
      "\u001B[1;31mValueError\u001B[0m: Unknown label type: 'continuous'"
     ]
    }
   ],
   "source": [
    "clf.fit(X_train, y_train)"
   ],
   "metadata": {
    "collapsed": false,
    "pycharm": {
     "name": "#%%\n"
    }
   }
  },
  {
   "cell_type": "code",
   "execution_count": 151,
   "outputs": [],
   "source": [
    "y_pred = clf.predict(X_test)"
   ],
   "metadata": {
    "collapsed": false,
    "pycharm": {
     "name": "#%%\n"
    }
   }
  },
  {
   "cell_type": "code",
   "execution_count": 135,
   "outputs": [],
   "source": [
    "k_fold = KFold(n_splits=10, shuffle=False, random_state=None)"
   ],
   "metadata": {
    "collapsed": false,
    "pycharm": {
     "name": "#%%\n"
    }
   }
  },
  {
   "cell_type": "code",
   "execution_count": 136,
   "outputs": [
    {
     "name": "stderr",
     "output_type": "stream",
     "text": [
      "c:\\users\\reinaldopc\\documents\\pycharm-projects\\venv\\lib\\site-packages\\sklearn\\model_selection\\_validation.py:615: FitFailedWarning: Estimator fit failed. The score on this train-test partition for these parameters will be set to nan. Details: \n",
      "Traceback (most recent call last):\n",
      "  File \"c:\\users\\reinaldopc\\documents\\pycharm-projects\\venv\\lib\\site-packages\\sklearn\\model_selection\\_validation.py\", line 598, in _fit_and_score\n",
      "    estimator.fit(X_train, y_train, **fit_params)\n",
      "  File \"c:\\users\\reinaldopc\\documents\\pycharm-projects\\venv\\lib\\site-packages\\sklearn\\linear_model\\_logistic.py\", line 1347, in fit\n",
      "    check_classification_targets(y)\n",
      "  File \"c:\\users\\reinaldopc\\documents\\pycharm-projects\\venv\\lib\\site-packages\\sklearn\\utils\\multiclass.py\", line 183, in check_classification_targets\n",
      "    raise ValueError(\"Unknown label type: %r\" % y_type)\n",
      "ValueError: Unknown label type: 'continuous'\n",
      "\n",
      "  warnings.warn(\"Estimator fit failed. The score on this train-test\"\n",
      "c:\\users\\reinaldopc\\documents\\pycharm-projects\\venv\\lib\\site-packages\\sklearn\\model_selection\\_validation.py:615: FitFailedWarning: Estimator fit failed. The score on this train-test partition for these parameters will be set to nan. Details: \n",
      "Traceback (most recent call last):\n",
      "  File \"c:\\users\\reinaldopc\\documents\\pycharm-projects\\venv\\lib\\site-packages\\sklearn\\model_selection\\_validation.py\", line 598, in _fit_and_score\n",
      "    estimator.fit(X_train, y_train, **fit_params)\n",
      "  File \"c:\\users\\reinaldopc\\documents\\pycharm-projects\\venv\\lib\\site-packages\\sklearn\\linear_model\\_logistic.py\", line 1347, in fit\n",
      "    check_classification_targets(y)\n",
      "  File \"c:\\users\\reinaldopc\\documents\\pycharm-projects\\venv\\lib\\site-packages\\sklearn\\utils\\multiclass.py\", line 183, in check_classification_targets\n",
      "    raise ValueError(\"Unknown label type: %r\" % y_type)\n",
      "ValueError: Unknown label type: 'continuous'\n",
      "\n",
      "  warnings.warn(\"Estimator fit failed. The score on this train-test\"\n",
      "c:\\users\\reinaldopc\\documents\\pycharm-projects\\venv\\lib\\site-packages\\sklearn\\model_selection\\_validation.py:615: FitFailedWarning: Estimator fit failed. The score on this train-test partition for these parameters will be set to nan. Details: \n",
      "Traceback (most recent call last):\n",
      "  File \"c:\\users\\reinaldopc\\documents\\pycharm-projects\\venv\\lib\\site-packages\\sklearn\\model_selection\\_validation.py\", line 598, in _fit_and_score\n",
      "    estimator.fit(X_train, y_train, **fit_params)\n",
      "  File \"c:\\users\\reinaldopc\\documents\\pycharm-projects\\venv\\lib\\site-packages\\sklearn\\linear_model\\_logistic.py\", line 1347, in fit\n",
      "    check_classification_targets(y)\n",
      "  File \"c:\\users\\reinaldopc\\documents\\pycharm-projects\\venv\\lib\\site-packages\\sklearn\\utils\\multiclass.py\", line 183, in check_classification_targets\n",
      "    raise ValueError(\"Unknown label type: %r\" % y_type)\n",
      "ValueError: Unknown label type: 'continuous'\n",
      "\n",
      "  warnings.warn(\"Estimator fit failed. The score on this train-test\"\n",
      "c:\\users\\reinaldopc\\documents\\pycharm-projects\\venv\\lib\\site-packages\\sklearn\\model_selection\\_validation.py:615: FitFailedWarning: Estimator fit failed. The score on this train-test partition for these parameters will be set to nan. Details: \n",
      "Traceback (most recent call last):\n",
      "  File \"c:\\users\\reinaldopc\\documents\\pycharm-projects\\venv\\lib\\site-packages\\sklearn\\model_selection\\_validation.py\", line 598, in _fit_and_score\n",
      "    estimator.fit(X_train, y_train, **fit_params)\n",
      "  File \"c:\\users\\reinaldopc\\documents\\pycharm-projects\\venv\\lib\\site-packages\\sklearn\\linear_model\\_logistic.py\", line 1347, in fit\n",
      "    check_classification_targets(y)\n",
      "  File \"c:\\users\\reinaldopc\\documents\\pycharm-projects\\venv\\lib\\site-packages\\sklearn\\utils\\multiclass.py\", line 183, in check_classification_targets\n",
      "    raise ValueError(\"Unknown label type: %r\" % y_type)\n",
      "ValueError: Unknown label type: 'continuous'\n",
      "\n",
      "  warnings.warn(\"Estimator fit failed. The score on this train-test\"\n",
      "c:\\users\\reinaldopc\\documents\\pycharm-projects\\venv\\lib\\site-packages\\sklearn\\model_selection\\_validation.py:615: FitFailedWarning: Estimator fit failed. The score on this train-test partition for these parameters will be set to nan. Details: \n",
      "Traceback (most recent call last):\n",
      "  File \"c:\\users\\reinaldopc\\documents\\pycharm-projects\\venv\\lib\\site-packages\\sklearn\\model_selection\\_validation.py\", line 598, in _fit_and_score\n",
      "    estimator.fit(X_train, y_train, **fit_params)\n",
      "  File \"c:\\users\\reinaldopc\\documents\\pycharm-projects\\venv\\lib\\site-packages\\sklearn\\linear_model\\_logistic.py\", line 1347, in fit\n",
      "    check_classification_targets(y)\n",
      "  File \"c:\\users\\reinaldopc\\documents\\pycharm-projects\\venv\\lib\\site-packages\\sklearn\\utils\\multiclass.py\", line 183, in check_classification_targets\n",
      "    raise ValueError(\"Unknown label type: %r\" % y_type)\n",
      "ValueError: Unknown label type: 'continuous'\n",
      "\n",
      "  warnings.warn(\"Estimator fit failed. The score on this train-test\"\n",
      "c:\\users\\reinaldopc\\documents\\pycharm-projects\\venv\\lib\\site-packages\\sklearn\\model_selection\\_validation.py:615: FitFailedWarning: Estimator fit failed. The score on this train-test partition for these parameters will be set to nan. Details: \n",
      "Traceback (most recent call last):\n",
      "  File \"c:\\users\\reinaldopc\\documents\\pycharm-projects\\venv\\lib\\site-packages\\sklearn\\model_selection\\_validation.py\", line 598, in _fit_and_score\n",
      "    estimator.fit(X_train, y_train, **fit_params)\n",
      "  File \"c:\\users\\reinaldopc\\documents\\pycharm-projects\\venv\\lib\\site-packages\\sklearn\\linear_model\\_logistic.py\", line 1347, in fit\n",
      "    check_classification_targets(y)\n",
      "  File \"c:\\users\\reinaldopc\\documents\\pycharm-projects\\venv\\lib\\site-packages\\sklearn\\utils\\multiclass.py\", line 183, in check_classification_targets\n",
      "    raise ValueError(\"Unknown label type: %r\" % y_type)\n",
      "ValueError: Unknown label type: 'continuous'\n",
      "\n",
      "  warnings.warn(\"Estimator fit failed. The score on this train-test\"\n",
      "c:\\users\\reinaldopc\\documents\\pycharm-projects\\venv\\lib\\site-packages\\sklearn\\model_selection\\_validation.py:615: FitFailedWarning: Estimator fit failed. The score on this train-test partition for these parameters will be set to nan. Details: \n",
      "Traceback (most recent call last):\n",
      "  File \"c:\\users\\reinaldopc\\documents\\pycharm-projects\\venv\\lib\\site-packages\\sklearn\\model_selection\\_validation.py\", line 598, in _fit_and_score\n",
      "    estimator.fit(X_train, y_train, **fit_params)\n",
      "  File \"c:\\users\\reinaldopc\\documents\\pycharm-projects\\venv\\lib\\site-packages\\sklearn\\linear_model\\_logistic.py\", line 1347, in fit\n",
      "    check_classification_targets(y)\n",
      "  File \"c:\\users\\reinaldopc\\documents\\pycharm-projects\\venv\\lib\\site-packages\\sklearn\\utils\\multiclass.py\", line 183, in check_classification_targets\n",
      "    raise ValueError(\"Unknown label type: %r\" % y_type)\n",
      "ValueError: Unknown label type: 'continuous'\n",
      "\n",
      "  warnings.warn(\"Estimator fit failed. The score on this train-test\"\n",
      "c:\\users\\reinaldopc\\documents\\pycharm-projects\\venv\\lib\\site-packages\\sklearn\\model_selection\\_validation.py:615: FitFailedWarning: Estimator fit failed. The score on this train-test partition for these parameters will be set to nan. Details: \n",
      "Traceback (most recent call last):\n",
      "  File \"c:\\users\\reinaldopc\\documents\\pycharm-projects\\venv\\lib\\site-packages\\sklearn\\model_selection\\_validation.py\", line 598, in _fit_and_score\n",
      "    estimator.fit(X_train, y_train, **fit_params)\n",
      "  File \"c:\\users\\reinaldopc\\documents\\pycharm-projects\\venv\\lib\\site-packages\\sklearn\\linear_model\\_logistic.py\", line 1347, in fit\n",
      "    check_classification_targets(y)\n",
      "  File \"c:\\users\\reinaldopc\\documents\\pycharm-projects\\venv\\lib\\site-packages\\sklearn\\utils\\multiclass.py\", line 183, in check_classification_targets\n",
      "    raise ValueError(\"Unknown label type: %r\" % y_type)\n",
      "ValueError: Unknown label type: 'continuous'\n",
      "\n",
      "  warnings.warn(\"Estimator fit failed. The score on this train-test\"\n",
      "c:\\users\\reinaldopc\\documents\\pycharm-projects\\venv\\lib\\site-packages\\sklearn\\model_selection\\_validation.py:615: FitFailedWarning: Estimator fit failed. The score on this train-test partition for these parameters will be set to nan. Details: \n",
      "Traceback (most recent call last):\n",
      "  File \"c:\\users\\reinaldopc\\documents\\pycharm-projects\\venv\\lib\\site-packages\\sklearn\\model_selection\\_validation.py\", line 598, in _fit_and_score\n",
      "    estimator.fit(X_train, y_train, **fit_params)\n",
      "  File \"c:\\users\\reinaldopc\\documents\\pycharm-projects\\venv\\lib\\site-packages\\sklearn\\linear_model\\_logistic.py\", line 1347, in fit\n",
      "    check_classification_targets(y)\n",
      "  File \"c:\\users\\reinaldopc\\documents\\pycharm-projects\\venv\\lib\\site-packages\\sklearn\\utils\\multiclass.py\", line 183, in check_classification_targets\n",
      "    raise ValueError(\"Unknown label type: %r\" % y_type)\n",
      "ValueError: Unknown label type: 'continuous'\n",
      "\n",
      "  warnings.warn(\"Estimator fit failed. The score on this train-test\"\n",
      "c:\\users\\reinaldopc\\documents\\pycharm-projects\\venv\\lib\\site-packages\\sklearn\\model_selection\\_validation.py:615: FitFailedWarning: Estimator fit failed. The score on this train-test partition for these parameters will be set to nan. Details: \n",
      "Traceback (most recent call last):\n",
      "  File \"c:\\users\\reinaldopc\\documents\\pycharm-projects\\venv\\lib\\site-packages\\sklearn\\model_selection\\_validation.py\", line 598, in _fit_and_score\n",
      "    estimator.fit(X_train, y_train, **fit_params)\n",
      "  File \"c:\\users\\reinaldopc\\documents\\pycharm-projects\\venv\\lib\\site-packages\\sklearn\\linear_model\\_logistic.py\", line 1347, in fit\n",
      "    check_classification_targets(y)\n",
      "  File \"c:\\users\\reinaldopc\\documents\\pycharm-projects\\venv\\lib\\site-packages\\sklearn\\utils\\multiclass.py\", line 183, in check_classification_targets\n",
      "    raise ValueError(\"Unknown label type: %r\" % y_type)\n",
      "ValueError: Unknown label type: 'continuous'\n",
      "\n",
      "  warnings.warn(\"Estimator fit failed. The score on this train-test\"\n"
     ]
    }
   ],
   "source": [
    "result = cross_val_score(clf, X, y, cv=k_fold)"
   ],
   "metadata": {
    "collapsed": false,
    "pycharm": {
     "name": "#%%\n"
    }
   }
  },
  {
   "cell_type": "code",
   "execution_count": 137,
   "outputs": [
    {
     "name": "stdout",
     "output_type": "stream",
     "text": [
      "Pontos do K-Fold:[nan nan nan nan nan nan nan nan nan nan]\n"
     ]
    }
   ],
   "source": [
    "print(\"Pontos do K-Fold:\"+str(result))"
   ],
   "metadata": {
    "collapsed": false,
    "pycharm": {
     "name": "#%%\n"
    }
   }
  },
  {
   "cell_type": "code",
   "execution_count": null,
   "outputs": [],
   "source": [
    "print(\"Média Cross-Validation K-Fold: {0}\".format(result.mean()))"
   ],
   "metadata": {
    "collapsed": false,
    "pycharm": {
     "name": "#%%\n"
    }
   }
  }
 ],
 "metadata": {
  "kernelspec": {
   "display_name": "Python 3",
   "language": "python",
   "name": "python3"
  },
  "language_info": {
   "codemirror_mode": {
    "name": "ipython",
    "version": 2
   },
   "file_extension": ".py",
   "mimetype": "text/x-python",
   "name": "python",
   "nbconvert_exporter": "python",
   "pygments_lexer": "ipython2",
   "version": "2.7.6"
  }
 },
 "nbformat": 4,
 "nbformat_minor": 0
}