{
 "cells": [
  {
   "cell_type": "code",
   "execution_count": 130,
   "metadata": {
    "collapsed": true
   },
   "outputs": [],
   "source": [
    "import pandas as pd\n",
    "from sklearn.model_selection import train_test_split\n",
    "from sklearn.naive_bayes import GaussianNB\n",
    "from sklearn.metrics import accuracy_score, confusion_matrix\n",
    "from sklearn.model_selection import cross_val_score, KFold\n",
    "from sklearn.metrics import plot_confusion_matrix"
   ]
  },
  {
   "cell_type": "code",
   "execution_count": 150,
   "outputs": [],
   "source": [
    "#columns = ['hora','onibusImobilizado','caminhaQuebrado','ExcessoVeiculo','VitimaAcidente','CorrendoMuito','VeiculoBombeiros','Frente','CargaPerigosa','FaltaEletricidade','Fogo','PontoInundacao','Manifestacao','DefeitoTrolebus','ArvoreEstrada','','']\n",
    "dataset = pd.read_csv('transito_sp.csv', sep=\";\")"
   ],
   "metadata": {
    "collapsed": false,
    "pycharm": {
     "name": "#%%\n"
    }
   }
  },
  {
   "cell_type": "code",
   "execution_count": 151,
   "outputs": [
    {
     "data": {
      "text/plain": "     Hour (Coded)  Immobilized bus  Broken Truck  Vehicle excess  \\\n0               1                0             0               0   \n1               2                0             0               0   \n2               3                0             0               0   \n3               4                0             0               0   \n4               5                0             0               0   \n..            ...              ...           ...             ...   \n130            23                1             0               0   \n131            24                0             0               0   \n132            25                1             0               0   \n133            26                0             4               0   \n134            27                0             0               0   \n\n     Accident victim  Running over  Fire vehicles  \\\n0                  0             0              0   \n1                  0             0              0   \n2                  0             0              0   \n3                  0             0              0   \n4                  0             0              0   \n..               ...           ...            ...   \n130                0             1              0   \n131                2             0              0   \n132                2             0              0   \n133                0             0              0   \n134                0             0              0   \n\n     Occurrence involving freight  Incident involving dangerous freight  \\\n0                               0                                     0   \n1                               0                                     0   \n2                               0                                     0   \n3                               0                                     0   \n4                               0                                     0   \n..                            ...                                   ...   \n130                             0                                     0   \n131                             0                                     0   \n132                             0                                     0   \n133                             0                                     0   \n134                             0                                     0   \n\n     Lack of electricity  Fire  Point of flooding  Manifestations  \\\n0                      0     0                  0               0   \n1                      0     0                  0               0   \n2                      0     0                  0               0   \n3                      0     0                  0               0   \n4                      0     0                  0               0   \n..                   ...   ...                ...             ...   \n130                    0     0                  0               0   \n131                    0     0                  0               0   \n132                    0     0                  0               0   \n133                    0     0                  0               1   \n134                    0     0                  0               0   \n\n     Defect in the network of trolleybuses  Tree on the road  Semaphore off  \\\n0                                        0                 0              0   \n1                                        0                 0              0   \n2                                        0                 0              0   \n3                                        0                 0              0   \n4                                        0                 0              0   \n..                                     ...               ...            ...   \n130                                      1                 0              0   \n131                                      0                 0              0   \n132                                      0                 0              0   \n133                                      0                 0              1   \n134                                      0                 0              0   \n\n     Intermittent Semaphore Slowness in traffic (%)  \n0                         0                     4,1  \n1                         0                     6,6  \n2                         0                     8,7  \n3                         0                     9,2  \n4                         0                    11,1  \n..                      ...                     ...  \n130                       0                    17,8  \n131                       0                    18,1  \n132                       0                    17,7  \n133                       0                    17,4  \n134                       0                    12,1  \n\n[135 rows x 18 columns]",
      "text/html": "<div>\n<style scoped>\n    .dataframe tbody tr th:only-of-type {\n        vertical-align: middle;\n    }\n\n    .dataframe tbody tr th {\n        vertical-align: top;\n    }\n\n    .dataframe thead th {\n        text-align: right;\n    }\n</style>\n<table border=\"1\" class=\"dataframe\">\n  <thead>\n    <tr style=\"text-align: right;\">\n      <th></th>\n      <th>Hour (Coded)</th>\n      <th>Immobilized bus</th>\n      <th>Broken Truck</th>\n      <th>Vehicle excess</th>\n      <th>Accident victim</th>\n      <th>Running over</th>\n      <th>Fire vehicles</th>\n      <th>Occurrence involving freight</th>\n      <th>Incident involving dangerous freight</th>\n      <th>Lack of electricity</th>\n      <th>Fire</th>\n      <th>Point of flooding</th>\n      <th>Manifestations</th>\n      <th>Defect in the network of trolleybuses</th>\n      <th>Tree on the road</th>\n      <th>Semaphore off</th>\n      <th>Intermittent Semaphore</th>\n      <th>Slowness in traffic (%)</th>\n    </tr>\n  </thead>\n  <tbody>\n    <tr>\n      <th>0</th>\n      <td>1</td>\n      <td>0</td>\n      <td>0</td>\n      <td>0</td>\n      <td>0</td>\n      <td>0</td>\n      <td>0</td>\n      <td>0</td>\n      <td>0</td>\n      <td>0</td>\n      <td>0</td>\n      <td>0</td>\n      <td>0</td>\n      <td>0</td>\n      <td>0</td>\n      <td>0</td>\n      <td>0</td>\n      <td>4,1</td>\n    </tr>\n    <tr>\n      <th>1</th>\n      <td>2</td>\n      <td>0</td>\n      <td>0</td>\n      <td>0</td>\n      <td>0</td>\n      <td>0</td>\n      <td>0</td>\n      <td>0</td>\n      <td>0</td>\n      <td>0</td>\n      <td>0</td>\n      <td>0</td>\n      <td>0</td>\n      <td>0</td>\n      <td>0</td>\n      <td>0</td>\n      <td>0</td>\n      <td>6,6</td>\n    </tr>\n    <tr>\n      <th>2</th>\n      <td>3</td>\n      <td>0</td>\n      <td>0</td>\n      <td>0</td>\n      <td>0</td>\n      <td>0</td>\n      <td>0</td>\n      <td>0</td>\n      <td>0</td>\n      <td>0</td>\n      <td>0</td>\n      <td>0</td>\n      <td>0</td>\n      <td>0</td>\n      <td>0</td>\n      <td>0</td>\n      <td>0</td>\n      <td>8,7</td>\n    </tr>\n    <tr>\n      <th>3</th>\n      <td>4</td>\n      <td>0</td>\n      <td>0</td>\n      <td>0</td>\n      <td>0</td>\n      <td>0</td>\n      <td>0</td>\n      <td>0</td>\n      <td>0</td>\n      <td>0</td>\n      <td>0</td>\n      <td>0</td>\n      <td>0</td>\n      <td>0</td>\n      <td>0</td>\n      <td>0</td>\n      <td>0</td>\n      <td>9,2</td>\n    </tr>\n    <tr>\n      <th>4</th>\n      <td>5</td>\n      <td>0</td>\n      <td>0</td>\n      <td>0</td>\n      <td>0</td>\n      <td>0</td>\n      <td>0</td>\n      <td>0</td>\n      <td>0</td>\n      <td>0</td>\n      <td>0</td>\n      <td>0</td>\n      <td>0</td>\n      <td>0</td>\n      <td>0</td>\n      <td>0</td>\n      <td>0</td>\n      <td>11,1</td>\n    </tr>\n    <tr>\n      <th>...</th>\n      <td>...</td>\n      <td>...</td>\n      <td>...</td>\n      <td>...</td>\n      <td>...</td>\n      <td>...</td>\n      <td>...</td>\n      <td>...</td>\n      <td>...</td>\n      <td>...</td>\n      <td>...</td>\n      <td>...</td>\n      <td>...</td>\n      <td>...</td>\n      <td>...</td>\n      <td>...</td>\n      <td>...</td>\n      <td>...</td>\n    </tr>\n    <tr>\n      <th>130</th>\n      <td>23</td>\n      <td>1</td>\n      <td>0</td>\n      <td>0</td>\n      <td>0</td>\n      <td>1</td>\n      <td>0</td>\n      <td>0</td>\n      <td>0</td>\n      <td>0</td>\n      <td>0</td>\n      <td>0</td>\n      <td>0</td>\n      <td>1</td>\n      <td>0</td>\n      <td>0</td>\n      <td>0</td>\n      <td>17,8</td>\n    </tr>\n    <tr>\n      <th>131</th>\n      <td>24</td>\n      <td>0</td>\n      <td>0</td>\n      <td>0</td>\n      <td>2</td>\n      <td>0</td>\n      <td>0</td>\n      <td>0</td>\n      <td>0</td>\n      <td>0</td>\n      <td>0</td>\n      <td>0</td>\n      <td>0</td>\n      <td>0</td>\n      <td>0</td>\n      <td>0</td>\n      <td>0</td>\n      <td>18,1</td>\n    </tr>\n    <tr>\n      <th>132</th>\n      <td>25</td>\n      <td>1</td>\n      <td>0</td>\n      <td>0</td>\n      <td>2</td>\n      <td>0</td>\n      <td>0</td>\n      <td>0</td>\n      <td>0</td>\n      <td>0</td>\n      <td>0</td>\n      <td>0</td>\n      <td>0</td>\n      <td>0</td>\n      <td>0</td>\n      <td>0</td>\n      <td>0</td>\n      <td>17,7</td>\n    </tr>\n    <tr>\n      <th>133</th>\n      <td>26</td>\n      <td>0</td>\n      <td>4</td>\n      <td>0</td>\n      <td>0</td>\n      <td>0</td>\n      <td>0</td>\n      <td>0</td>\n      <td>0</td>\n      <td>0</td>\n      <td>0</td>\n      <td>0</td>\n      <td>1</td>\n      <td>0</td>\n      <td>0</td>\n      <td>1</td>\n      <td>0</td>\n      <td>17,4</td>\n    </tr>\n    <tr>\n      <th>134</th>\n      <td>27</td>\n      <td>0</td>\n      <td>0</td>\n      <td>0</td>\n      <td>0</td>\n      <td>0</td>\n      <td>0</td>\n      <td>0</td>\n      <td>0</td>\n      <td>0</td>\n      <td>0</td>\n      <td>0</td>\n      <td>0</td>\n      <td>0</td>\n      <td>0</td>\n      <td>0</td>\n      <td>0</td>\n      <td>12,1</td>\n    </tr>\n  </tbody>\n</table>\n<p>135 rows × 18 columns</p>\n</div>"
     },
     "execution_count": 151,
     "metadata": {},
     "output_type": "execute_result"
    }
   ],
   "source": [
    "dataset"
   ],
   "metadata": {
    "collapsed": false,
    "pycharm": {
     "name": "#%%\n"
    }
   }
  },
  {
   "cell_type": "code",
   "execution_count": 133,
   "outputs": [],
   "source": [
    "#dataset['Slowness in traffic (%)']=dataset['Slowness in traffic (%)'].str.replace(',','.')"
   ],
   "metadata": {
    "collapsed": false,
    "pycharm": {
     "name": "#%%\n"
    }
   }
  },
  {
   "cell_type": "code",
   "execution_count": 134,
   "outputs": [],
   "source": [
    "#dataset['Slowness in traffic (%)'].astype(float)"
   ],
   "metadata": {
    "collapsed": false,
    "pycharm": {
     "name": "#%%\n"
    }
   }
  },
  {
   "cell_type": "code",
   "execution_count": 152,
   "outputs": [],
   "source": [
    "X = dataset.iloc[:,:17]\n",
    "y = dataset['Slowness in traffic (%)'].values"
   ],
   "metadata": {
    "collapsed": false,
    "pycharm": {
     "name": "#%%\n"
    }
   }
  },
  {
   "cell_type": "code",
   "execution_count": 136,
   "outputs": [
    {
     "data": {
      "text/plain": "Hour (Coded)                              int64\nImmobilized bus                           int64\nBroken Truck                              int64\nVehicle excess                            int64\nAccident victim                           int64\nRunning over                              int64\nFire vehicles                             int64\nOccurrence involving freight              int64\nIncident involving dangerous freight      int64\nLack of electricity                       int64\nFire                                      int64\nPoint of flooding                         int64\nManifestations                            int64\nDefect in the network of trolleybuses     int64\nTree on the road                          int64\nSemaphore off                             int64\nIntermittent Semaphore                    int64\nSlowness in traffic (%)                  object\ndtype: object"
     },
     "execution_count": 136,
     "metadata": {},
     "output_type": "execute_result"
    }
   ],
   "source": [
    "dataset.dtypes"
   ],
   "metadata": {
    "collapsed": false,
    "pycharm": {
     "name": "#%%\n"
    }
   }
  },
  {
   "cell_type": "code",
   "execution_count": 137,
   "outputs": [],
   "source": [
    "X_train, X_test, y_train, y_test = train_test_split(X, y, test_size = 0.30)"
   ],
   "metadata": {
    "collapsed": false,
    "pycharm": {
     "name": "#%%\n"
    }
   }
  },
  {
   "cell_type": "code",
   "execution_count": 138,
   "outputs": [
    {
     "data": {
      "text/plain": "GaussianNB()"
     },
     "execution_count": 138,
     "metadata": {},
     "output_type": "execute_result"
    }
   ],
   "source": [
    "classifier = GaussianNB()\n",
    "classifier.fit(X_train, y_train)"
   ],
   "metadata": {
    "collapsed": false,
    "pycharm": {
     "name": "#%%\n"
    }
   }
  },
  {
   "cell_type": "code",
   "execution_count": 139,
   "outputs": [],
   "source": [
    "y_pred = classifier.predict (X_test)"
   ],
   "metadata": {
    "collapsed": false,
    "pycharm": {
     "name": "#%%\n"
    }
   }
  },
  {
   "cell_type": "code",
   "execution_count": 147,
   "outputs": [
    {
     "data": {
      "text/plain": "array(['10,3', '9,9', '10,3', '9,9', '9,9', '7,9', '9,5', '7,4', '4,9',\n       '8,7', '7,4', '10,9', '14,6', '8,7', '10,1', '10,1', '7,4', '12,1',\n       '8,7', '4,9', '10,3', '12,1', '15,6', '8', '12,3', '8,7', '7,9',\n       '6,4', '9,9', '7,4', '11', '8,5', '9,5', '9,5', '7,9', '8', '8,5',\n       '8', '12,1', '10,1', '10,9'], dtype='<U4')"
     },
     "execution_count": 147,
     "metadata": {},
     "output_type": "execute_result"
    }
   ],
   "source": [
    "y_pred"
   ],
   "metadata": {
    "collapsed": false,
    "pycharm": {
     "name": "#%%\n"
    }
   }
  },
  {
   "cell_type": "code",
   "execution_count": 141,
   "outputs": [],
   "source": [
    "cm = confusion_matrix(y_test, y_pred)"
   ],
   "metadata": {
    "collapsed": false,
    "pycharm": {
     "name": "#%%\n"
    }
   }
  },
  {
   "cell_type": "code",
   "execution_count": 149,
   "outputs": [
    {
     "data": {
      "text/plain": "   Valores reais Valores previstos\n0           17,4              10,3\n1            6,7               9,9\n2            6,2              10,3\n3           11,8               9,9\n4            5,1               9,9\n5            3,8               7,9\n6           19,3               9,5\n7           13,9               7,4\n8              7               4,9\n9           11,9               8,7\n10           9,3               7,4\n11           6,9              10,9\n12          12,1              14,6\n13           5,3               8,7\n14          17,4              10,1\n15          11,4              10,1\n16           9,4               7,4\n17           6,5              12,1\n18           5,7               8,7\n19          11,1               4,9\n20           3,4              10,3\n21          22,6              12,1\n22          17,7              15,6\n23          12,5                 8\n24           7,7              12,3\n25             8               8,7\n26           5,5               7,9\n27           7,7               6,4\n28          19,9               9,9\n29          10,9               7,4\n30           8,9                11\n31           7,4               8,5\n32            11               9,5\n33           8,3               9,5\n34           8,7               7,9\n35           5,3                 8\n36           4,8               8,5\n37           6,8                 8\n38           8,1              12,1\n39             4              10,1\n40           8,2              10,9",
      "text/html": "<div>\n<style scoped>\n    .dataframe tbody tr th:only-of-type {\n        vertical-align: middle;\n    }\n\n    .dataframe tbody tr th {\n        vertical-align: top;\n    }\n\n    .dataframe thead th {\n        text-align: right;\n    }\n</style>\n<table border=\"1\" class=\"dataframe\">\n  <thead>\n    <tr style=\"text-align: right;\">\n      <th></th>\n      <th>Valores reais</th>\n      <th>Valores previstos</th>\n    </tr>\n  </thead>\n  <tbody>\n    <tr>\n      <th>0</th>\n      <td>17,4</td>\n      <td>10,3</td>\n    </tr>\n    <tr>\n      <th>1</th>\n      <td>6,7</td>\n      <td>9,9</td>\n    </tr>\n    <tr>\n      <th>2</th>\n      <td>6,2</td>\n      <td>10,3</td>\n    </tr>\n    <tr>\n      <th>3</th>\n      <td>11,8</td>\n      <td>9,9</td>\n    </tr>\n    <tr>\n      <th>4</th>\n      <td>5,1</td>\n      <td>9,9</td>\n    </tr>\n    <tr>\n      <th>5</th>\n      <td>3,8</td>\n      <td>7,9</td>\n    </tr>\n    <tr>\n      <th>6</th>\n      <td>19,3</td>\n      <td>9,5</td>\n    </tr>\n    <tr>\n      <th>7</th>\n      <td>13,9</td>\n      <td>7,4</td>\n    </tr>\n    <tr>\n      <th>8</th>\n      <td>7</td>\n      <td>4,9</td>\n    </tr>\n    <tr>\n      <th>9</th>\n      <td>11,9</td>\n      <td>8,7</td>\n    </tr>\n    <tr>\n      <th>10</th>\n      <td>9,3</td>\n      <td>7,4</td>\n    </tr>\n    <tr>\n      <th>11</th>\n      <td>6,9</td>\n      <td>10,9</td>\n    </tr>\n    <tr>\n      <th>12</th>\n      <td>12,1</td>\n      <td>14,6</td>\n    </tr>\n    <tr>\n      <th>13</th>\n      <td>5,3</td>\n      <td>8,7</td>\n    </tr>\n    <tr>\n      <th>14</th>\n      <td>17,4</td>\n      <td>10,1</td>\n    </tr>\n    <tr>\n      <th>15</th>\n      <td>11,4</td>\n      <td>10,1</td>\n    </tr>\n    <tr>\n      <th>16</th>\n      <td>9,4</td>\n      <td>7,4</td>\n    </tr>\n    <tr>\n      <th>17</th>\n      <td>6,5</td>\n      <td>12,1</td>\n    </tr>\n    <tr>\n      <th>18</th>\n      <td>5,7</td>\n      <td>8,7</td>\n    </tr>\n    <tr>\n      <th>19</th>\n      <td>11,1</td>\n      <td>4,9</td>\n    </tr>\n    <tr>\n      <th>20</th>\n      <td>3,4</td>\n      <td>10,3</td>\n    </tr>\n    <tr>\n      <th>21</th>\n      <td>22,6</td>\n      <td>12,1</td>\n    </tr>\n    <tr>\n      <th>22</th>\n      <td>17,7</td>\n      <td>15,6</td>\n    </tr>\n    <tr>\n      <th>23</th>\n      <td>12,5</td>\n      <td>8</td>\n    </tr>\n    <tr>\n      <th>24</th>\n      <td>7,7</td>\n      <td>12,3</td>\n    </tr>\n    <tr>\n      <th>25</th>\n      <td>8</td>\n      <td>8,7</td>\n    </tr>\n    <tr>\n      <th>26</th>\n      <td>5,5</td>\n      <td>7,9</td>\n    </tr>\n    <tr>\n      <th>27</th>\n      <td>7,7</td>\n      <td>6,4</td>\n    </tr>\n    <tr>\n      <th>28</th>\n      <td>19,9</td>\n      <td>9,9</td>\n    </tr>\n    <tr>\n      <th>29</th>\n      <td>10,9</td>\n      <td>7,4</td>\n    </tr>\n    <tr>\n      <th>30</th>\n      <td>8,9</td>\n      <td>11</td>\n    </tr>\n    <tr>\n      <th>31</th>\n      <td>7,4</td>\n      <td>8,5</td>\n    </tr>\n    <tr>\n      <th>32</th>\n      <td>11</td>\n      <td>9,5</td>\n    </tr>\n    <tr>\n      <th>33</th>\n      <td>8,3</td>\n      <td>9,5</td>\n    </tr>\n    <tr>\n      <th>34</th>\n      <td>8,7</td>\n      <td>7,9</td>\n    </tr>\n    <tr>\n      <th>35</th>\n      <td>5,3</td>\n      <td>8</td>\n    </tr>\n    <tr>\n      <th>36</th>\n      <td>4,8</td>\n      <td>8,5</td>\n    </tr>\n    <tr>\n      <th>37</th>\n      <td>6,8</td>\n      <td>8</td>\n    </tr>\n    <tr>\n      <th>38</th>\n      <td>8,1</td>\n      <td>12,1</td>\n    </tr>\n    <tr>\n      <th>39</th>\n      <td>4</td>\n      <td>10,1</td>\n    </tr>\n    <tr>\n      <th>40</th>\n      <td>8,2</td>\n      <td>10,9</td>\n    </tr>\n  </tbody>\n</table>\n</div>"
     },
     "execution_count": 149,
     "metadata": {},
     "output_type": "execute_result"
    }
   ],
   "source": [
    "df = pd.DataFrame ({'Valores reais': y_test, 'Valores previstos': y_pred})\n",
    "df"
   ],
   "metadata": {
    "collapsed": false,
    "pycharm": {
     "name": "#%%\n"
    }
   }
  },
  {
   "cell_type": "code",
   "execution_count": 143,
   "outputs": [
    {
     "name": "stdout",
     "output_type": "stream",
     "text": [
      "Accuracy :  0.0\n"
     ]
    }
   ],
   "source": [
    "print (\"Accuracy : \", accuracy_score(y_test, y_pred))"
   ],
   "metadata": {
    "collapsed": false,
    "pycharm": {
     "name": "#%%\n"
    }
   }
  },
  {
   "cell_type": "code",
   "execution_count": 144,
   "outputs": [],
   "source": [
    "#plot_confusion_matrix(classifier, y_test, y_pred)"
   ],
   "metadata": {
    "collapsed": false,
    "pycharm": {
     "name": "#%%\n"
    }
   }
  }
 ],
 "metadata": {
  "kernelspec": {
   "display_name": "Python 3",
   "language": "python",
   "name": "python3"
  },
  "language_info": {
   "codemirror_mode": {
    "name": "ipython",
    "version": 2
   },
   "file_extension": ".py",
   "mimetype": "text/x-python",
   "name": "python",
   "nbconvert_exporter": "python",
   "pygments_lexer": "ipython2",
   "version": "2.7.6"
  }
 },
 "nbformat": 4,
 "nbformat_minor": 0
}